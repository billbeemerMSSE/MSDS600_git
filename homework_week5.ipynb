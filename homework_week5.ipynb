{
 "cells": [
  {
   "cell_type": "markdown",
   "metadata": {},
   "source": [
    "Homework Week 5 <br>\n",
    "MSDS 600<br>\n",
    "Bill Beemer<br>"
   ]
  },
  {
   "cell_type": "markdown",
   "metadata": {},
   "source": [
    "Import Block"
   ]
  },
  {
   "cell_type": "code",
   "execution_count": 24,
   "metadata": {},
   "outputs": [],
   "source": [
    "import pandas as pd\n",
    "from pycaret.classification import setup, compare_models, predict_model, save_model, load_model\n",
    "import pickle\n",
    "\n",
    "%matplotlib inline\n"
   ]
  },
  {
   "cell_type": "markdown",
   "metadata": {},
   "source": [
    "Build dataframe from Prepped Churn Data"
   ]
  },
  {
   "cell_type": "code",
   "execution_count": 25,
   "metadata": {},
   "outputs": [
    {
     "data": {
      "text/html": [
       "<div>\n",
       "<style scoped>\n",
       "    .dataframe tbody tr th:only-of-type {\n",
       "        vertical-align: middle;\n",
       "    }\n",
       "\n",
       "    .dataframe tbody tr th {\n",
       "        vertical-align: top;\n",
       "    }\n",
       "\n",
       "    .dataframe thead th {\n",
       "        text-align: right;\n",
       "    }\n",
       "</style>\n",
       "<table border=\"1\" class=\"dataframe\">\n",
       "  <thead>\n",
       "    <tr style=\"text-align: right;\">\n",
       "      <th></th>\n",
       "      <th>tenure</th>\n",
       "      <th>PhoneService</th>\n",
       "      <th>Contract</th>\n",
       "      <th>PaymentMethod</th>\n",
       "      <th>MonthlyCharges</th>\n",
       "      <th>TotalCharges</th>\n",
       "      <th>Churn</th>\n",
       "    </tr>\n",
       "    <tr>\n",
       "      <th>customerID</th>\n",
       "      <th></th>\n",
       "      <th></th>\n",
       "      <th></th>\n",
       "      <th></th>\n",
       "      <th></th>\n",
       "      <th></th>\n",
       "      <th></th>\n",
       "    </tr>\n",
       "  </thead>\n",
       "  <tbody>\n",
       "    <tr>\n",
       "      <th>7590-VHVEG</th>\n",
       "      <td>1</td>\n",
       "      <td>0</td>\n",
       "      <td>1</td>\n",
       "      <td>1</td>\n",
       "      <td>29.85</td>\n",
       "      <td>29.85</td>\n",
       "      <td>0</td>\n",
       "    </tr>\n",
       "    <tr>\n",
       "      <th>5575-GNVDE</th>\n",
       "      <td>34</td>\n",
       "      <td>1</td>\n",
       "      <td>12</td>\n",
       "      <td>2</td>\n",
       "      <td>56.95</td>\n",
       "      <td>1889.50</td>\n",
       "      <td>0</td>\n",
       "    </tr>\n",
       "    <tr>\n",
       "      <th>3668-QPYBK</th>\n",
       "      <td>2</td>\n",
       "      <td>1</td>\n",
       "      <td>1</td>\n",
       "      <td>2</td>\n",
       "      <td>53.85</td>\n",
       "      <td>108.15</td>\n",
       "      <td>1</td>\n",
       "    </tr>\n",
       "    <tr>\n",
       "      <th>7795-CFOCW</th>\n",
       "      <td>45</td>\n",
       "      <td>0</td>\n",
       "      <td>12</td>\n",
       "      <td>3</td>\n",
       "      <td>42.30</td>\n",
       "      <td>1840.75</td>\n",
       "      <td>0</td>\n",
       "    </tr>\n",
       "    <tr>\n",
       "      <th>9237-HQITU</th>\n",
       "      <td>2</td>\n",
       "      <td>1</td>\n",
       "      <td>1</td>\n",
       "      <td>1</td>\n",
       "      <td>70.70</td>\n",
       "      <td>151.65</td>\n",
       "      <td>1</td>\n",
       "    </tr>\n",
       "    <tr>\n",
       "      <th>...</th>\n",
       "      <td>...</td>\n",
       "      <td>...</td>\n",
       "      <td>...</td>\n",
       "      <td>...</td>\n",
       "      <td>...</td>\n",
       "      <td>...</td>\n",
       "      <td>...</td>\n",
       "    </tr>\n",
       "    <tr>\n",
       "      <th>6840-RESVB</th>\n",
       "      <td>24</td>\n",
       "      <td>1</td>\n",
       "      <td>12</td>\n",
       "      <td>2</td>\n",
       "      <td>84.80</td>\n",
       "      <td>1990.50</td>\n",
       "      <td>0</td>\n",
       "    </tr>\n",
       "    <tr>\n",
       "      <th>2234-XADUH</th>\n",
       "      <td>72</td>\n",
       "      <td>1</td>\n",
       "      <td>12</td>\n",
       "      <td>4</td>\n",
       "      <td>103.20</td>\n",
       "      <td>7362.90</td>\n",
       "      <td>0</td>\n",
       "    </tr>\n",
       "    <tr>\n",
       "      <th>4801-JZAZL</th>\n",
       "      <td>11</td>\n",
       "      <td>0</td>\n",
       "      <td>1</td>\n",
       "      <td>1</td>\n",
       "      <td>29.60</td>\n",
       "      <td>346.45</td>\n",
       "      <td>0</td>\n",
       "    </tr>\n",
       "    <tr>\n",
       "      <th>8361-LTMKD</th>\n",
       "      <td>4</td>\n",
       "      <td>1</td>\n",
       "      <td>1</td>\n",
       "      <td>2</td>\n",
       "      <td>74.40</td>\n",
       "      <td>306.60</td>\n",
       "      <td>1</td>\n",
       "    </tr>\n",
       "    <tr>\n",
       "      <th>3186-AJIEK</th>\n",
       "      <td>66</td>\n",
       "      <td>1</td>\n",
       "      <td>24</td>\n",
       "      <td>3</td>\n",
       "      <td>105.65</td>\n",
       "      <td>6844.50</td>\n",
       "      <td>0</td>\n",
       "    </tr>\n",
       "  </tbody>\n",
       "</table>\n",
       "<p>7032 rows × 7 columns</p>\n",
       "</div>"
      ],
      "text/plain": [
       "            tenure  PhoneService  Contract  PaymentMethod  MonthlyCharges  \\\n",
       "customerID                                                                  \n",
       "7590-VHVEG       1             0         1              1           29.85   \n",
       "5575-GNVDE      34             1        12              2           56.95   \n",
       "3668-QPYBK       2             1         1              2           53.85   \n",
       "7795-CFOCW      45             0        12              3           42.30   \n",
       "9237-HQITU       2             1         1              1           70.70   \n",
       "...            ...           ...       ...            ...             ...   \n",
       "6840-RESVB      24             1        12              2           84.80   \n",
       "2234-XADUH      72             1        12              4          103.20   \n",
       "4801-JZAZL      11             0         1              1           29.60   \n",
       "8361-LTMKD       4             1         1              2           74.40   \n",
       "3186-AJIEK      66             1        24              3          105.65   \n",
       "\n",
       "            TotalCharges  Churn  \n",
       "customerID                       \n",
       "7590-VHVEG         29.85      0  \n",
       "5575-GNVDE       1889.50      0  \n",
       "3668-QPYBK        108.15      1  \n",
       "7795-CFOCW       1840.75      0  \n",
       "9237-HQITU        151.65      1  \n",
       "...                  ...    ...  \n",
       "6840-RESVB       1990.50      0  \n",
       "2234-XADUH       7362.90      0  \n",
       "4801-JZAZL        346.45      0  \n",
       "8361-LTMKD        306.60      1  \n",
       "3186-AJIEK       6844.50      0  \n",
       "\n",
       "[7032 rows x 7 columns]"
      ]
     },
     "execution_count": 25,
     "metadata": {},
     "output_type": "execute_result"
    }
   ],
   "source": [
    "df = pd.read_csv('data/prepped_churn_data.csv', index_col='customerID')\n",
    "df"
   ]
  },
  {
   "cell_type": "markdown",
   "metadata": {},
   "source": [
    "Setup Auto ML"
   ]
  },
  {
   "cell_type": "code",
   "execution_count": 26,
   "metadata": {},
   "outputs": [
    {
     "data": {
      "text/html": [
       "<style type=\"text/css\">\n",
       "#T_21494_row8_col1 {\n",
       "  background-color: lightgreen;\n",
       "}\n",
       "</style>\n",
       "<table id=\"T_21494\">\n",
       "  <thead>\n",
       "    <tr>\n",
       "      <th class=\"blank level0\" >&nbsp;</th>\n",
       "      <th id=\"T_21494_level0_col0\" class=\"col_heading level0 col0\" >Description</th>\n",
       "      <th id=\"T_21494_level0_col1\" class=\"col_heading level0 col1\" >Value</th>\n",
       "    </tr>\n",
       "  </thead>\n",
       "  <tbody>\n",
       "    <tr>\n",
       "      <th id=\"T_21494_level0_row0\" class=\"row_heading level0 row0\" >0</th>\n",
       "      <td id=\"T_21494_row0_col0\" class=\"data row0 col0\" >Session id</td>\n",
       "      <td id=\"T_21494_row0_col1\" class=\"data row0 col1\" >2966</td>\n",
       "    </tr>\n",
       "    <tr>\n",
       "      <th id=\"T_21494_level0_row1\" class=\"row_heading level0 row1\" >1</th>\n",
       "      <td id=\"T_21494_row1_col0\" class=\"data row1 col0\" >Target</td>\n",
       "      <td id=\"T_21494_row1_col1\" class=\"data row1 col1\" >Churn</td>\n",
       "    </tr>\n",
       "    <tr>\n",
       "      <th id=\"T_21494_level0_row2\" class=\"row_heading level0 row2\" >2</th>\n",
       "      <td id=\"T_21494_row2_col0\" class=\"data row2 col0\" >Target type</td>\n",
       "      <td id=\"T_21494_row2_col1\" class=\"data row2 col1\" >Binary</td>\n",
       "    </tr>\n",
       "    <tr>\n",
       "      <th id=\"T_21494_level0_row3\" class=\"row_heading level0 row3\" >3</th>\n",
       "      <td id=\"T_21494_row3_col0\" class=\"data row3 col0\" >Original data shape</td>\n",
       "      <td id=\"T_21494_row3_col1\" class=\"data row3 col1\" >(7032, 7)</td>\n",
       "    </tr>\n",
       "    <tr>\n",
       "      <th id=\"T_21494_level0_row4\" class=\"row_heading level0 row4\" >4</th>\n",
       "      <td id=\"T_21494_row4_col0\" class=\"data row4 col0\" >Transformed data shape</td>\n",
       "      <td id=\"T_21494_row4_col1\" class=\"data row4 col1\" >(7032, 7)</td>\n",
       "    </tr>\n",
       "    <tr>\n",
       "      <th id=\"T_21494_level0_row5\" class=\"row_heading level0 row5\" >5</th>\n",
       "      <td id=\"T_21494_row5_col0\" class=\"data row5 col0\" >Transformed train set shape</td>\n",
       "      <td id=\"T_21494_row5_col1\" class=\"data row5 col1\" >(4922, 7)</td>\n",
       "    </tr>\n",
       "    <tr>\n",
       "      <th id=\"T_21494_level0_row6\" class=\"row_heading level0 row6\" >6</th>\n",
       "      <td id=\"T_21494_row6_col0\" class=\"data row6 col0\" >Transformed test set shape</td>\n",
       "      <td id=\"T_21494_row6_col1\" class=\"data row6 col1\" >(2110, 7)</td>\n",
       "    </tr>\n",
       "    <tr>\n",
       "      <th id=\"T_21494_level0_row7\" class=\"row_heading level0 row7\" >7</th>\n",
       "      <td id=\"T_21494_row7_col0\" class=\"data row7 col0\" >Numeric features</td>\n",
       "      <td id=\"T_21494_row7_col1\" class=\"data row7 col1\" >6</td>\n",
       "    </tr>\n",
       "    <tr>\n",
       "      <th id=\"T_21494_level0_row8\" class=\"row_heading level0 row8\" >8</th>\n",
       "      <td id=\"T_21494_row8_col0\" class=\"data row8 col0\" >Preprocess</td>\n",
       "      <td id=\"T_21494_row8_col1\" class=\"data row8 col1\" >True</td>\n",
       "    </tr>\n",
       "    <tr>\n",
       "      <th id=\"T_21494_level0_row9\" class=\"row_heading level0 row9\" >9</th>\n",
       "      <td id=\"T_21494_row9_col0\" class=\"data row9 col0\" >Imputation type</td>\n",
       "      <td id=\"T_21494_row9_col1\" class=\"data row9 col1\" >simple</td>\n",
       "    </tr>\n",
       "    <tr>\n",
       "      <th id=\"T_21494_level0_row10\" class=\"row_heading level0 row10\" >10</th>\n",
       "      <td id=\"T_21494_row10_col0\" class=\"data row10 col0\" >Numeric imputation</td>\n",
       "      <td id=\"T_21494_row10_col1\" class=\"data row10 col1\" >mean</td>\n",
       "    </tr>\n",
       "    <tr>\n",
       "      <th id=\"T_21494_level0_row11\" class=\"row_heading level0 row11\" >11</th>\n",
       "      <td id=\"T_21494_row11_col0\" class=\"data row11 col0\" >Categorical imputation</td>\n",
       "      <td id=\"T_21494_row11_col1\" class=\"data row11 col1\" >mode</td>\n",
       "    </tr>\n",
       "    <tr>\n",
       "      <th id=\"T_21494_level0_row12\" class=\"row_heading level0 row12\" >12</th>\n",
       "      <td id=\"T_21494_row12_col0\" class=\"data row12 col0\" >Fold Generator</td>\n",
       "      <td id=\"T_21494_row12_col1\" class=\"data row12 col1\" >StratifiedKFold</td>\n",
       "    </tr>\n",
       "    <tr>\n",
       "      <th id=\"T_21494_level0_row13\" class=\"row_heading level0 row13\" >13</th>\n",
       "      <td id=\"T_21494_row13_col0\" class=\"data row13 col0\" >Fold Number</td>\n",
       "      <td id=\"T_21494_row13_col1\" class=\"data row13 col1\" >10</td>\n",
       "    </tr>\n",
       "    <tr>\n",
       "      <th id=\"T_21494_level0_row14\" class=\"row_heading level0 row14\" >14</th>\n",
       "      <td id=\"T_21494_row14_col0\" class=\"data row14 col0\" >CPU Jobs</td>\n",
       "      <td id=\"T_21494_row14_col1\" class=\"data row14 col1\" >-1</td>\n",
       "    </tr>\n",
       "    <tr>\n",
       "      <th id=\"T_21494_level0_row15\" class=\"row_heading level0 row15\" >15</th>\n",
       "      <td id=\"T_21494_row15_col0\" class=\"data row15 col0\" >Use GPU</td>\n",
       "      <td id=\"T_21494_row15_col1\" class=\"data row15 col1\" >False</td>\n",
       "    </tr>\n",
       "    <tr>\n",
       "      <th id=\"T_21494_level0_row16\" class=\"row_heading level0 row16\" >16</th>\n",
       "      <td id=\"T_21494_row16_col0\" class=\"data row16 col0\" >Log Experiment</td>\n",
       "      <td id=\"T_21494_row16_col1\" class=\"data row16 col1\" >False</td>\n",
       "    </tr>\n",
       "    <tr>\n",
       "      <th id=\"T_21494_level0_row17\" class=\"row_heading level0 row17\" >17</th>\n",
       "      <td id=\"T_21494_row17_col0\" class=\"data row17 col0\" >Experiment Name</td>\n",
       "      <td id=\"T_21494_row17_col1\" class=\"data row17 col1\" >clf-default-name</td>\n",
       "    </tr>\n",
       "    <tr>\n",
       "      <th id=\"T_21494_level0_row18\" class=\"row_heading level0 row18\" >18</th>\n",
       "      <td id=\"T_21494_row18_col0\" class=\"data row18 col0\" >USI</td>\n",
       "      <td id=\"T_21494_row18_col1\" class=\"data row18 col1\" >8123</td>\n",
       "    </tr>\n",
       "  </tbody>\n",
       "</table>\n"
      ],
      "text/plain": [
       "<pandas.io.formats.style.Styler at 0x16c47cfd0>"
      ]
     },
     "metadata": {},
     "output_type": "display_data"
    }
   ],
   "source": [
    "automl = setup(df, target='Churn')"
   ]
  },
  {
   "cell_type": "markdown",
   "metadata": {},
   "source": [
    "The below is not working - can't see different elements within the automl set"
   ]
  },
  {
   "cell_type": "code",
   "execution_count": 27,
   "metadata": {},
   "outputs": [],
   "source": [
    "# automl[6]"
   ]
  },
  {
   "cell_type": "markdown",
   "metadata": {},
   "source": [
    "Run Auto ML for best model"
   ]
  },
  {
   "cell_type": "code",
   "execution_count": 28,
   "metadata": {},
   "outputs": [
    {
     "data": {
      "text/html": [],
      "text/plain": [
       "<IPython.core.display.HTML object>"
      ]
     },
     "metadata": {},
     "output_type": "display_data"
    },
    {
     "data": {
      "text/html": [
       "<style type=\"text/css\">\n",
       "#T_929fd th {\n",
       "  text-align: left;\n",
       "}\n",
       "#T_929fd_row0_col0, #T_929fd_row0_col2, #T_929fd_row0_col3, #T_929fd_row0_col4, #T_929fd_row0_col5, #T_929fd_row1_col0, #T_929fd_row1_col1, #T_929fd_row1_col2, #T_929fd_row1_col3, #T_929fd_row1_col5, #T_929fd_row1_col6, #T_929fd_row1_col7, #T_929fd_row2_col0, #T_929fd_row2_col1, #T_929fd_row2_col2, #T_929fd_row2_col3, #T_929fd_row2_col4, #T_929fd_row2_col5, #T_929fd_row2_col6, #T_929fd_row2_col7, #T_929fd_row3_col0, #T_929fd_row3_col1, #T_929fd_row3_col2, #T_929fd_row3_col3, #T_929fd_row3_col4, #T_929fd_row3_col5, #T_929fd_row3_col6, #T_929fd_row3_col7, #T_929fd_row4_col0, #T_929fd_row4_col1, #T_929fd_row4_col3, #T_929fd_row4_col4, #T_929fd_row4_col5, #T_929fd_row4_col6, #T_929fd_row4_col7, #T_929fd_row5_col0, #T_929fd_row5_col1, #T_929fd_row5_col2, #T_929fd_row5_col3, #T_929fd_row5_col4, #T_929fd_row5_col5, #T_929fd_row5_col6, #T_929fd_row5_col7, #T_929fd_row6_col0, #T_929fd_row6_col1, #T_929fd_row6_col2, #T_929fd_row6_col3, #T_929fd_row6_col4, #T_929fd_row6_col5, #T_929fd_row6_col6, #T_929fd_row6_col7, #T_929fd_row7_col0, #T_929fd_row7_col1, #T_929fd_row7_col2, #T_929fd_row7_col3, #T_929fd_row7_col4, #T_929fd_row7_col5, #T_929fd_row7_col6, #T_929fd_row7_col7, #T_929fd_row8_col0, #T_929fd_row8_col1, #T_929fd_row8_col2, #T_929fd_row8_col3, #T_929fd_row8_col4, #T_929fd_row8_col5, #T_929fd_row8_col6, #T_929fd_row8_col7, #T_929fd_row9_col0, #T_929fd_row9_col1, #T_929fd_row9_col2, #T_929fd_row9_col3, #T_929fd_row9_col4, #T_929fd_row9_col5, #T_929fd_row9_col6, #T_929fd_row9_col7, #T_929fd_row10_col0, #T_929fd_row10_col1, #T_929fd_row10_col2, #T_929fd_row10_col3, #T_929fd_row10_col4, #T_929fd_row10_col6, #T_929fd_row10_col7, #T_929fd_row11_col0, #T_929fd_row11_col1, #T_929fd_row11_col2, #T_929fd_row11_col3, #T_929fd_row11_col4, #T_929fd_row11_col5, #T_929fd_row11_col6, #T_929fd_row11_col7, #T_929fd_row12_col0, #T_929fd_row12_col1, #T_929fd_row12_col2, #T_929fd_row12_col3, #T_929fd_row12_col4, #T_929fd_row12_col5, #T_929fd_row12_col6, #T_929fd_row12_col7, #T_929fd_row13_col0, #T_929fd_row13_col1, #T_929fd_row13_col2, #T_929fd_row13_col4, #T_929fd_row13_col5, #T_929fd_row13_col6, #T_929fd_row13_col7 {\n",
       "  text-align: left;\n",
       "}\n",
       "#T_929fd_row0_col1, #T_929fd_row0_col6, #T_929fd_row0_col7, #T_929fd_row1_col4, #T_929fd_row4_col2, #T_929fd_row10_col5, #T_929fd_row13_col3 {\n",
       "  text-align: left;\n",
       "  background-color: yellow;\n",
       "}\n",
       "#T_929fd_row0_col8, #T_929fd_row1_col8, #T_929fd_row2_col8, #T_929fd_row3_col8, #T_929fd_row4_col8, #T_929fd_row5_col8, #T_929fd_row6_col8, #T_929fd_row7_col8, #T_929fd_row8_col8, #T_929fd_row9_col8, #T_929fd_row12_col8, #T_929fd_row13_col8 {\n",
       "  text-align: left;\n",
       "  background-color: lightgrey;\n",
       "}\n",
       "#T_929fd_row10_col8, #T_929fd_row11_col8 {\n",
       "  text-align: left;\n",
       "  background-color: yellow;\n",
       "  background-color: lightgrey;\n",
       "}\n",
       "</style>\n",
       "<table id=\"T_929fd\">\n",
       "  <thead>\n",
       "    <tr>\n",
       "      <th class=\"blank level0\" >&nbsp;</th>\n",
       "      <th id=\"T_929fd_level0_col0\" class=\"col_heading level0 col0\" >Model</th>\n",
       "      <th id=\"T_929fd_level0_col1\" class=\"col_heading level0 col1\" >Accuracy</th>\n",
       "      <th id=\"T_929fd_level0_col2\" class=\"col_heading level0 col2\" >AUC</th>\n",
       "      <th id=\"T_929fd_level0_col3\" class=\"col_heading level0 col3\" >Recall</th>\n",
       "      <th id=\"T_929fd_level0_col4\" class=\"col_heading level0 col4\" >Prec.</th>\n",
       "      <th id=\"T_929fd_level0_col5\" class=\"col_heading level0 col5\" >F1</th>\n",
       "      <th id=\"T_929fd_level0_col6\" class=\"col_heading level0 col6\" >Kappa</th>\n",
       "      <th id=\"T_929fd_level0_col7\" class=\"col_heading level0 col7\" >MCC</th>\n",
       "      <th id=\"T_929fd_level0_col8\" class=\"col_heading level0 col8\" >TT (Sec)</th>\n",
       "    </tr>\n",
       "  </thead>\n",
       "  <tbody>\n",
       "    <tr>\n",
       "      <th id=\"T_929fd_level0_row0\" class=\"row_heading level0 row0\" >lr</th>\n",
       "      <td id=\"T_929fd_row0_col0\" class=\"data row0 col0\" >Logistic Regression</td>\n",
       "      <td id=\"T_929fd_row0_col1\" class=\"data row0 col1\" >0.7942</td>\n",
       "      <td id=\"T_929fd_row0_col2\" class=\"data row0 col2\" >0.8329</td>\n",
       "      <td id=\"T_929fd_row0_col3\" class=\"data row0 col3\" >0.5107</td>\n",
       "      <td id=\"T_929fd_row0_col4\" class=\"data row0 col4\" >0.6415</td>\n",
       "      <td id=\"T_929fd_row0_col5\" class=\"data row0 col5\" >0.5682</td>\n",
       "      <td id=\"T_929fd_row0_col6\" class=\"data row0 col6\" >0.4355</td>\n",
       "      <td id=\"T_929fd_row0_col7\" class=\"data row0 col7\" >0.4407</td>\n",
       "      <td id=\"T_929fd_row0_col8\" class=\"data row0 col8\" >0.1900</td>\n",
       "    </tr>\n",
       "    <tr>\n",
       "      <th id=\"T_929fd_level0_row1\" class=\"row_heading level0 row1\" >ridge</th>\n",
       "      <td id=\"T_929fd_row1_col0\" class=\"data row1 col0\" >Ridge Classifier</td>\n",
       "      <td id=\"T_929fd_row1_col1\" class=\"data row1 col1\" >0.7889</td>\n",
       "      <td id=\"T_929fd_row1_col2\" class=\"data row1 col2\" >0.0000</td>\n",
       "      <td id=\"T_929fd_row1_col3\" class=\"data row1 col3\" >0.4350</td>\n",
       "      <td id=\"T_929fd_row1_col4\" class=\"data row1 col4\" >0.6550</td>\n",
       "      <td id=\"T_929fd_row1_col5\" class=\"data row1 col5\" >0.5223</td>\n",
       "      <td id=\"T_929fd_row1_col6\" class=\"data row1 col6\" >0.3940</td>\n",
       "      <td id=\"T_929fd_row1_col7\" class=\"data row1 col7\" >0.4078</td>\n",
       "      <td id=\"T_929fd_row1_col8\" class=\"data row1 col8\" >0.0060</td>\n",
       "    </tr>\n",
       "    <tr>\n",
       "      <th id=\"T_929fd_level0_row2\" class=\"row_heading level0 row2\" >lda</th>\n",
       "      <td id=\"T_929fd_row2_col0\" class=\"data row2 col0\" >Linear Discriminant Analysis</td>\n",
       "      <td id=\"T_929fd_row2_col1\" class=\"data row2 col1\" >0.7885</td>\n",
       "      <td id=\"T_929fd_row2_col2\" class=\"data row2 col2\" >0.8180</td>\n",
       "      <td id=\"T_929fd_row2_col3\" class=\"data row2 col3\" >0.4893</td>\n",
       "      <td id=\"T_929fd_row2_col4\" class=\"data row2 col4\" >0.6314</td>\n",
       "      <td id=\"T_929fd_row2_col5\" class=\"data row2 col5\" >0.5509</td>\n",
       "      <td id=\"T_929fd_row2_col6\" class=\"data row2 col6\" >0.4156</td>\n",
       "      <td id=\"T_929fd_row2_col7\" class=\"data row2 col7\" >0.4216</td>\n",
       "      <td id=\"T_929fd_row2_col8\" class=\"data row2 col8\" >0.0060</td>\n",
       "    </tr>\n",
       "    <tr>\n",
       "      <th id=\"T_929fd_level0_row3\" class=\"row_heading level0 row3\" >ada</th>\n",
       "      <td id=\"T_929fd_row3_col0\" class=\"data row3 col0\" >Ada Boost Classifier</td>\n",
       "      <td id=\"T_929fd_row3_col1\" class=\"data row3 col1\" >0.7883</td>\n",
       "      <td id=\"T_929fd_row3_col2\" class=\"data row3 col2\" >0.8334</td>\n",
       "      <td id=\"T_929fd_row3_col3\" class=\"data row3 col3\" >0.4817</td>\n",
       "      <td id=\"T_929fd_row3_col4\" class=\"data row3 col4\" >0.6341</td>\n",
       "      <td id=\"T_929fd_row3_col5\" class=\"data row3 col5\" >0.5468</td>\n",
       "      <td id=\"T_929fd_row3_col6\" class=\"data row3 col6\" >0.4122</td>\n",
       "      <td id=\"T_929fd_row3_col7\" class=\"data row3 col7\" >0.4192</td>\n",
       "      <td id=\"T_929fd_row3_col8\" class=\"data row3 col8\" >0.0300</td>\n",
       "    </tr>\n",
       "    <tr>\n",
       "      <th id=\"T_929fd_level0_row4\" class=\"row_heading level0 row4\" >gbc</th>\n",
       "      <td id=\"T_929fd_row4_col0\" class=\"data row4 col0\" >Gradient Boosting Classifier</td>\n",
       "      <td id=\"T_929fd_row4_col1\" class=\"data row4 col1\" >0.7869</td>\n",
       "      <td id=\"T_929fd_row4_col2\" class=\"data row4 col2\" >0.8361</td>\n",
       "      <td id=\"T_929fd_row4_col3\" class=\"data row4 col3\" >0.4763</td>\n",
       "      <td id=\"T_929fd_row4_col4\" class=\"data row4 col4\" >0.6310</td>\n",
       "      <td id=\"T_929fd_row4_col5\" class=\"data row4 col5\" >0.5419</td>\n",
       "      <td id=\"T_929fd_row4_col6\" class=\"data row4 col6\" >0.4069</td>\n",
       "      <td id=\"T_929fd_row4_col7\" class=\"data row4 col7\" >0.4142</td>\n",
       "      <td id=\"T_929fd_row4_col8\" class=\"data row4 col8\" >0.0800</td>\n",
       "    </tr>\n",
       "    <tr>\n",
       "      <th id=\"T_929fd_level0_row5\" class=\"row_heading level0 row5\" >lightgbm</th>\n",
       "      <td id=\"T_929fd_row5_col0\" class=\"data row5 col0\" >Light Gradient Boosting Machine</td>\n",
       "      <td id=\"T_929fd_row5_col1\" class=\"data row5 col1\" >0.7824</td>\n",
       "      <td id=\"T_929fd_row5_col2\" class=\"data row5 col2\" >0.8269</td>\n",
       "      <td id=\"T_929fd_row5_col3\" class=\"data row5 col3\" >0.5016</td>\n",
       "      <td id=\"T_929fd_row5_col4\" class=\"data row5 col4\" >0.6106</td>\n",
       "      <td id=\"T_929fd_row5_col5\" class=\"data row5 col5\" >0.5498</td>\n",
       "      <td id=\"T_929fd_row5_col6\" class=\"data row5 col6\" >0.4084</td>\n",
       "      <td id=\"T_929fd_row5_col7\" class=\"data row5 col7\" >0.4124</td>\n",
       "      <td id=\"T_929fd_row5_col8\" class=\"data row5 col8\" >0.2550</td>\n",
       "    </tr>\n",
       "    <tr>\n",
       "      <th id=\"T_929fd_level0_row6\" class=\"row_heading level0 row6\" >rf</th>\n",
       "      <td id=\"T_929fd_row6_col0\" class=\"data row6 col0\" >Random Forest Classifier</td>\n",
       "      <td id=\"T_929fd_row6_col1\" class=\"data row6 col1\" >0.7607</td>\n",
       "      <td id=\"T_929fd_row6_col2\" class=\"data row6 col2\" >0.7944</td>\n",
       "      <td id=\"T_929fd_row6_col3\" class=\"data row6 col3\" >0.4664</td>\n",
       "      <td id=\"T_929fd_row6_col4\" class=\"data row6 col4\" >0.5599</td>\n",
       "      <td id=\"T_929fd_row6_col5\" class=\"data row6 col5\" >0.5085</td>\n",
       "      <td id=\"T_929fd_row6_col6\" class=\"data row6 col6\" >0.3522</td>\n",
       "      <td id=\"T_929fd_row6_col7\" class=\"data row6 col7\" >0.3549</td>\n",
       "      <td id=\"T_929fd_row6_col8\" class=\"data row6 col8\" >0.0780</td>\n",
       "    </tr>\n",
       "    <tr>\n",
       "      <th id=\"T_929fd_level0_row7\" class=\"row_heading level0 row7\" >knn</th>\n",
       "      <td id=\"T_929fd_row7_col0\" class=\"data row7 col0\" >K Neighbors Classifier</td>\n",
       "      <td id=\"T_929fd_row7_col1\" class=\"data row7 col1\" >0.7560</td>\n",
       "      <td id=\"T_929fd_row7_col2\" class=\"data row7 col2\" >0.7541</td>\n",
       "      <td id=\"T_929fd_row7_col3\" class=\"data row7 col3\" >0.4366</td>\n",
       "      <td id=\"T_929fd_row7_col4\" class=\"data row7 col4\" >0.5512</td>\n",
       "      <td id=\"T_929fd_row7_col5\" class=\"data row7 col5\" >0.4869</td>\n",
       "      <td id=\"T_929fd_row7_col6\" class=\"data row7 col6\" >0.3298</td>\n",
       "      <td id=\"T_929fd_row7_col7\" class=\"data row7 col7\" >0.3338</td>\n",
       "      <td id=\"T_929fd_row7_col8\" class=\"data row7 col8\" >0.0110</td>\n",
       "    </tr>\n",
       "    <tr>\n",
       "      <th id=\"T_929fd_level0_row8\" class=\"row_heading level0 row8\" >svm</th>\n",
       "      <td id=\"T_929fd_row8_col0\" class=\"data row8 col0\" >SVM - Linear Kernel</td>\n",
       "      <td id=\"T_929fd_row8_col1\" class=\"data row8 col1\" >0.7552</td>\n",
       "      <td id=\"T_929fd_row8_col2\" class=\"data row8 col2\" >0.0000</td>\n",
       "      <td id=\"T_929fd_row8_col3\" class=\"data row8 col3\" >0.4020</td>\n",
       "      <td id=\"T_929fd_row8_col4\" class=\"data row8 col4\" >0.6436</td>\n",
       "      <td id=\"T_929fd_row8_col5\" class=\"data row8 col5\" >0.4506</td>\n",
       "      <td id=\"T_929fd_row8_col6\" class=\"data row8 col6\" >0.3151</td>\n",
       "      <td id=\"T_929fd_row8_col7\" class=\"data row8 col7\" >0.3545</td>\n",
       "      <td id=\"T_929fd_row8_col8\" class=\"data row8 col8\" >0.0080</td>\n",
       "    </tr>\n",
       "    <tr>\n",
       "      <th id=\"T_929fd_level0_row9\" class=\"row_heading level0 row9\" >et</th>\n",
       "      <td id=\"T_929fd_row9_col0\" class=\"data row9 col0\" >Extra Trees Classifier</td>\n",
       "      <td id=\"T_929fd_row9_col1\" class=\"data row9 col1\" >0.7529</td>\n",
       "      <td id=\"T_929fd_row9_col2\" class=\"data row9 col2\" >0.7706</td>\n",
       "      <td id=\"T_929fd_row9_col3\" class=\"data row9 col3\" >0.4702</td>\n",
       "      <td id=\"T_929fd_row9_col4\" class=\"data row9 col4\" >0.5415</td>\n",
       "      <td id=\"T_929fd_row9_col5\" class=\"data row9 col5\" >0.5028</td>\n",
       "      <td id=\"T_929fd_row9_col6\" class=\"data row9 col6\" >0.3396</td>\n",
       "      <td id=\"T_929fd_row9_col7\" class=\"data row9 col7\" >0.3414</td>\n",
       "      <td id=\"T_929fd_row9_col8\" class=\"data row9 col8\" >0.0620</td>\n",
       "    </tr>\n",
       "    <tr>\n",
       "      <th id=\"T_929fd_level0_row10\" class=\"row_heading level0 row10\" >qda</th>\n",
       "      <td id=\"T_929fd_row10_col0\" class=\"data row10 col0\" >Quadratic Discriminant Analysis</td>\n",
       "      <td id=\"T_929fd_row10_col1\" class=\"data row10 col1\" >0.7440</td>\n",
       "      <td id=\"T_929fd_row10_col2\" class=\"data row10 col2\" >0.8223</td>\n",
       "      <td id=\"T_929fd_row10_col3\" class=\"data row10 col3\" >0.7377</td>\n",
       "      <td id=\"T_929fd_row10_col4\" class=\"data row10 col4\" >0.5130</td>\n",
       "      <td id=\"T_929fd_row10_col5\" class=\"data row10 col5\" >0.6050</td>\n",
       "      <td id=\"T_929fd_row10_col6\" class=\"data row10 col6\" >0.4246</td>\n",
       "      <td id=\"T_929fd_row10_col7\" class=\"data row10 col7\" >0.4401</td>\n",
       "      <td id=\"T_929fd_row10_col8\" class=\"data row10 col8\" >0.0050</td>\n",
       "    </tr>\n",
       "    <tr>\n",
       "      <th id=\"T_929fd_level0_row11\" class=\"row_heading level0 row11\" >dummy</th>\n",
       "      <td id=\"T_929fd_row11_col0\" class=\"data row11 col0\" >Dummy Classifier</td>\n",
       "      <td id=\"T_929fd_row11_col1\" class=\"data row11 col1\" >0.7343</td>\n",
       "      <td id=\"T_929fd_row11_col2\" class=\"data row11 col2\" >0.5000</td>\n",
       "      <td id=\"T_929fd_row11_col3\" class=\"data row11 col3\" >0.0000</td>\n",
       "      <td id=\"T_929fd_row11_col4\" class=\"data row11 col4\" >0.0000</td>\n",
       "      <td id=\"T_929fd_row11_col5\" class=\"data row11 col5\" >0.0000</td>\n",
       "      <td id=\"T_929fd_row11_col6\" class=\"data row11 col6\" >0.0000</td>\n",
       "      <td id=\"T_929fd_row11_col7\" class=\"data row11 col7\" >0.0000</td>\n",
       "      <td id=\"T_929fd_row11_col8\" class=\"data row11 col8\" >0.0050</td>\n",
       "    </tr>\n",
       "    <tr>\n",
       "      <th id=\"T_929fd_level0_row12\" class=\"row_heading level0 row12\" >dt</th>\n",
       "      <td id=\"T_929fd_row12_col0\" class=\"data row12 col0\" >Decision Tree Classifier</td>\n",
       "      <td id=\"T_929fd_row12_col1\" class=\"data row12 col1\" >0.7253</td>\n",
       "      <td id=\"T_929fd_row12_col2\" class=\"data row12 col2\" >0.6512</td>\n",
       "      <td id=\"T_929fd_row12_col3\" class=\"data row12 col3\" >0.4771</td>\n",
       "      <td id=\"T_929fd_row12_col4\" class=\"data row12 col4\" >0.4844</td>\n",
       "      <td id=\"T_929fd_row12_col5\" class=\"data row12 col5\" >0.4800</td>\n",
       "      <td id=\"T_929fd_row12_col6\" class=\"data row12 col6\" >0.2936</td>\n",
       "      <td id=\"T_929fd_row12_col7\" class=\"data row12 col7\" >0.2941</td>\n",
       "      <td id=\"T_929fd_row12_col8\" class=\"data row12 col8\" >0.0080</td>\n",
       "    </tr>\n",
       "    <tr>\n",
       "      <th id=\"T_929fd_level0_row13\" class=\"row_heading level0 row13\" >nb</th>\n",
       "      <td id=\"T_929fd_row13_col0\" class=\"data row13 col0\" >Naive Bayes</td>\n",
       "      <td id=\"T_929fd_row13_col1\" class=\"data row13 col1\" >0.7156</td>\n",
       "      <td id=\"T_929fd_row13_col2\" class=\"data row13 col2\" >0.8038</td>\n",
       "      <td id=\"T_929fd_row13_col3\" class=\"data row13 col3\" >0.7600</td>\n",
       "      <td id=\"T_929fd_row13_col4\" class=\"data row13 col4\" >0.4782</td>\n",
       "      <td id=\"T_929fd_row13_col5\" class=\"data row13 col5\" >0.5868</td>\n",
       "      <td id=\"T_929fd_row13_col6\" class=\"data row13 col6\" >0.3868</td>\n",
       "      <td id=\"T_929fd_row13_col7\" class=\"data row13 col7\" >0.4111</td>\n",
       "      <td id=\"T_929fd_row13_col8\" class=\"data row13 col8\" >0.0070</td>\n",
       "    </tr>\n",
       "  </tbody>\n",
       "</table>\n"
      ],
      "text/plain": [
       "<pandas.io.formats.style.Styler at 0x1692451e0>"
      ]
     },
     "metadata": {},
     "output_type": "display_data"
    },
    {
     "data": {
      "text/html": [],
      "text/plain": [
       "<IPython.core.display.HTML object>"
      ]
     },
     "metadata": {},
     "output_type": "display_data"
    }
   ],
   "source": [
    "best_model = compare_models()"
   ]
  },
  {
   "cell_type": "markdown",
   "metadata": {},
   "source": [
    "Display Best"
   ]
  },
  {
   "cell_type": "code",
   "execution_count": 29,
   "metadata": {},
   "outputs": [
    {
     "name": "stdout",
     "output_type": "stream",
     "text": [
      "<class 'sklearn.linear_model._logistic.LogisticRegression'>\n"
     ]
    },
    {
     "data": {
      "text/html": [
       "<style>#sk-container-id-3 {color: black;background-color: white;}#sk-container-id-3 pre{padding: 0;}#sk-container-id-3 div.sk-toggleable {background-color: white;}#sk-container-id-3 label.sk-toggleable__label {cursor: pointer;display: block;width: 100%;margin-bottom: 0;padding: 0.3em;box-sizing: border-box;text-align: center;}#sk-container-id-3 label.sk-toggleable__label-arrow:before {content: \"▸\";float: left;margin-right: 0.25em;color: #696969;}#sk-container-id-3 label.sk-toggleable__label-arrow:hover:before {color: black;}#sk-container-id-3 div.sk-estimator:hover label.sk-toggleable__label-arrow:before {color: black;}#sk-container-id-3 div.sk-toggleable__content {max-height: 0;max-width: 0;overflow: hidden;text-align: left;background-color: #f0f8ff;}#sk-container-id-3 div.sk-toggleable__content pre {margin: 0.2em;color: black;border-radius: 0.25em;background-color: #f0f8ff;}#sk-container-id-3 input.sk-toggleable__control:checked~div.sk-toggleable__content {max-height: 200px;max-width: 100%;overflow: auto;}#sk-container-id-3 input.sk-toggleable__control:checked~label.sk-toggleable__label-arrow:before {content: \"▾\";}#sk-container-id-3 div.sk-estimator input.sk-toggleable__control:checked~label.sk-toggleable__label {background-color: #d4ebff;}#sk-container-id-3 div.sk-label input.sk-toggleable__control:checked~label.sk-toggleable__label {background-color: #d4ebff;}#sk-container-id-3 input.sk-hidden--visually {border: 0;clip: rect(1px 1px 1px 1px);clip: rect(1px, 1px, 1px, 1px);height: 1px;margin: -1px;overflow: hidden;padding: 0;position: absolute;width: 1px;}#sk-container-id-3 div.sk-estimator {font-family: monospace;background-color: #f0f8ff;border: 1px dotted black;border-radius: 0.25em;box-sizing: border-box;margin-bottom: 0.5em;}#sk-container-id-3 div.sk-estimator:hover {background-color: #d4ebff;}#sk-container-id-3 div.sk-parallel-item::after {content: \"\";width: 100%;border-bottom: 1px solid gray;flex-grow: 1;}#sk-container-id-3 div.sk-label:hover label.sk-toggleable__label {background-color: #d4ebff;}#sk-container-id-3 div.sk-serial::before {content: \"\";position: absolute;border-left: 1px solid gray;box-sizing: border-box;top: 0;bottom: 0;left: 50%;z-index: 0;}#sk-container-id-3 div.sk-serial {display: flex;flex-direction: column;align-items: center;background-color: white;padding-right: 0.2em;padding-left: 0.2em;position: relative;}#sk-container-id-3 div.sk-item {position: relative;z-index: 1;}#sk-container-id-3 div.sk-parallel {display: flex;align-items: stretch;justify-content: center;background-color: white;position: relative;}#sk-container-id-3 div.sk-item::before, #sk-container-id-3 div.sk-parallel-item::before {content: \"\";position: absolute;border-left: 1px solid gray;box-sizing: border-box;top: 0;bottom: 0;left: 50%;z-index: -1;}#sk-container-id-3 div.sk-parallel-item {display: flex;flex-direction: column;z-index: 1;position: relative;background-color: white;}#sk-container-id-3 div.sk-parallel-item:first-child::after {align-self: flex-end;width: 50%;}#sk-container-id-3 div.sk-parallel-item:last-child::after {align-self: flex-start;width: 50%;}#sk-container-id-3 div.sk-parallel-item:only-child::after {width: 0;}#sk-container-id-3 div.sk-dashed-wrapped {border: 1px dashed gray;margin: 0 0.4em 0.5em 0.4em;box-sizing: border-box;padding-bottom: 0.4em;background-color: white;}#sk-container-id-3 div.sk-label label {font-family: monospace;font-weight: bold;display: inline-block;line-height: 1.2em;}#sk-container-id-3 div.sk-label-container {text-align: center;}#sk-container-id-3 div.sk-container {/* jupyter's `normalize.less` sets `[hidden] { display: none; }` but bootstrap.min.css set `[hidden] { display: none !important; }` so we also need the `!important` here to be able to override the default hidden behavior on the sphinx rendered scikit-learn.org. See: https://github.com/scikit-learn/scikit-learn/issues/21755 */display: inline-block !important;position: relative;}#sk-container-id-3 div.sk-text-repr-fallback {display: none;}</style><div id=\"sk-container-id-3\" class=\"sk-top-container\"><div class=\"sk-text-repr-fallback\"><pre>LogisticRegression(C=1.0, class_weight=None, dual=False, fit_intercept=True,\n",
       "                   intercept_scaling=1, l1_ratio=None, max_iter=1000,\n",
       "                   multi_class=&#x27;auto&#x27;, n_jobs=None, penalty=&#x27;l2&#x27;,\n",
       "                   random_state=2966, solver=&#x27;lbfgs&#x27;, tol=0.0001, verbose=0,\n",
       "                   warm_start=False)</pre><b>In a Jupyter environment, please rerun this cell to show the HTML representation or trust the notebook. <br />On GitHub, the HTML representation is unable to render, please try loading this page with nbviewer.org.</b></div><div class=\"sk-container\" hidden><div class=\"sk-item\"><div class=\"sk-estimator sk-toggleable\"><input class=\"sk-toggleable__control sk-hidden--visually\" id=\"sk-estimator-id-3\" type=\"checkbox\" checked><label for=\"sk-estimator-id-3\" class=\"sk-toggleable__label sk-toggleable__label-arrow\">LogisticRegression</label><div class=\"sk-toggleable__content\"><pre>LogisticRegression(C=1.0, class_weight=None, dual=False, fit_intercept=True,\n",
       "                   intercept_scaling=1, l1_ratio=None, max_iter=1000,\n",
       "                   multi_class=&#x27;auto&#x27;, n_jobs=None, penalty=&#x27;l2&#x27;,\n",
       "                   random_state=2966, solver=&#x27;lbfgs&#x27;, tol=0.0001, verbose=0,\n",
       "                   warm_start=False)</pre></div></div></div></div></div>"
      ],
      "text/plain": [
       "LogisticRegression(C=1.0, class_weight=None, dual=False, fit_intercept=True,\n",
       "                   intercept_scaling=1, l1_ratio=None, max_iter=1000,\n",
       "                   multi_class='auto', n_jobs=None, penalty='l2',\n",
       "                   random_state=2966, solver='lbfgs', tol=0.0001, verbose=0,\n",
       "                   warm_start=False)"
      ]
     },
     "execution_count": 29,
     "metadata": {},
     "output_type": "execute_result"
    }
   ],
   "source": [
    "print(type(best_model))\n",
    "best_model"
   ]
  },
  {
   "cell_type": "markdown",
   "metadata": {},
   "source": [
    "Analysis::<br>\n",
    "It looks like LR is the best, following closely by the next top 5 other models (roughly 78%)"
   ]
  },
  {
   "cell_type": "markdown",
   "metadata": {},
   "source": [
    "Making predictions using best model"
   ]
  },
  {
   "cell_type": "code",
   "execution_count": 41,
   "metadata": {},
   "outputs": [
    {
     "name": "stdout",
     "output_type": "stream",
     "text": [
      "(1, 7)\n"
     ]
    },
    {
     "data": {
      "text/html": [
       "<style type=\"text/css\">\n",
       "</style>\n",
       "<table id=\"T_779cc\">\n",
       "  <thead>\n",
       "    <tr>\n",
       "      <th class=\"blank level0\" >&nbsp;</th>\n",
       "      <th id=\"T_779cc_level0_col0\" class=\"col_heading level0 col0\" >Model</th>\n",
       "      <th id=\"T_779cc_level0_col1\" class=\"col_heading level0 col1\" >Accuracy</th>\n",
       "      <th id=\"T_779cc_level0_col2\" class=\"col_heading level0 col2\" >AUC</th>\n",
       "      <th id=\"T_779cc_level0_col3\" class=\"col_heading level0 col3\" >Recall</th>\n",
       "      <th id=\"T_779cc_level0_col4\" class=\"col_heading level0 col4\" >Prec.</th>\n",
       "      <th id=\"T_779cc_level0_col5\" class=\"col_heading level0 col5\" >F1</th>\n",
       "      <th id=\"T_779cc_level0_col6\" class=\"col_heading level0 col6\" >Kappa</th>\n",
       "      <th id=\"T_779cc_level0_col7\" class=\"col_heading level0 col7\" >MCC</th>\n",
       "    </tr>\n",
       "  </thead>\n",
       "  <tbody>\n",
       "    <tr>\n",
       "      <th id=\"T_779cc_level0_row0\" class=\"row_heading level0 row0\" >0</th>\n",
       "      <td id=\"T_779cc_row0_col0\" class=\"data row0 col0\" >Logistic Regression</td>\n",
       "      <td id=\"T_779cc_row0_col1\" class=\"data row0 col1\" >1.0000</td>\n",
       "      <td id=\"T_779cc_row0_col2\" class=\"data row0 col2\" >0</td>\n",
       "      <td id=\"T_779cc_row0_col3\" class=\"data row0 col3\" >1.0000</td>\n",
       "      <td id=\"T_779cc_row0_col4\" class=\"data row0 col4\" >1.0000</td>\n",
       "      <td id=\"T_779cc_row0_col5\" class=\"data row0 col5\" >1.0000</td>\n",
       "      <td id=\"T_779cc_row0_col6\" class=\"data row0 col6\" >nan</td>\n",
       "      <td id=\"T_779cc_row0_col7\" class=\"data row0 col7\" >0.0000</td>\n",
       "    </tr>\n",
       "  </tbody>\n",
       "</table>\n"
      ],
      "text/plain": [
       "<pandas.io.formats.style.Styler at 0x16c263910>"
      ]
     },
     "metadata": {},
     "output_type": "display_data"
    },
    {
     "data": {
      "text/html": [
       "<div>\n",
       "<style scoped>\n",
       "    .dataframe tbody tr th:only-of-type {\n",
       "        vertical-align: middle;\n",
       "    }\n",
       "\n",
       "    .dataframe tbody tr th {\n",
       "        vertical-align: top;\n",
       "    }\n",
       "\n",
       "    .dataframe thead th {\n",
       "        text-align: right;\n",
       "    }\n",
       "</style>\n",
       "<table border=\"1\" class=\"dataframe\">\n",
       "  <thead>\n",
       "    <tr style=\"text-align: right;\">\n",
       "      <th></th>\n",
       "      <th>tenure</th>\n",
       "      <th>PhoneService</th>\n",
       "      <th>Contract</th>\n",
       "      <th>PaymentMethod</th>\n",
       "      <th>MonthlyCharges</th>\n",
       "      <th>TotalCharges</th>\n",
       "      <th>Churn</th>\n",
       "      <th>prediction_label</th>\n",
       "      <th>prediction_score</th>\n",
       "    </tr>\n",
       "    <tr>\n",
       "      <th>customerID</th>\n",
       "      <th></th>\n",
       "      <th></th>\n",
       "      <th></th>\n",
       "      <th></th>\n",
       "      <th></th>\n",
       "      <th></th>\n",
       "      <th></th>\n",
       "      <th></th>\n",
       "      <th></th>\n",
       "    </tr>\n",
       "  </thead>\n",
       "  <tbody>\n",
       "    <tr>\n",
       "      <th>8361-LTMKD</th>\n",
       "      <td>4</td>\n",
       "      <td>1</td>\n",
       "      <td>1</td>\n",
       "      <td>2</td>\n",
       "      <td>74.400002</td>\n",
       "      <td>306.600006</td>\n",
       "      <td>1</td>\n",
       "      <td>1</td>\n",
       "      <td>0.5758</td>\n",
       "    </tr>\n",
       "  </tbody>\n",
       "</table>\n",
       "</div>"
      ],
      "text/plain": [
       "            tenure  PhoneService  Contract  PaymentMethod  MonthlyCharges  \\\n",
       "customerID                                                                  \n",
       "8361-LTMKD       4             1         1              2       74.400002   \n",
       "\n",
       "            TotalCharges  Churn  prediction_label  prediction_score  \n",
       "customerID                                                           \n",
       "8361-LTMKD    306.600006      1                 1            0.5758  "
      ]
     },
     "execution_count": 41,
     "metadata": {},
     "output_type": "execute_result"
    }
   ],
   "source": [
    "print(df.iloc[-2:-1].shape)\n",
    "predict_model(best_model, df.iloc[-2:-1])"
   ]
  },
  {
   "cell_type": "markdown",
   "metadata": {},
   "source": [
    "Take a look at results for entire data frame"
   ]
  },
  {
   "cell_type": "code",
   "execution_count": 37,
   "metadata": {},
   "outputs": [
    {
     "data": {
      "text/html": [
       "<style type=\"text/css\">\n",
       "</style>\n",
       "<table id=\"T_84a02\">\n",
       "  <thead>\n",
       "    <tr>\n",
       "      <th class=\"blank level0\" >&nbsp;</th>\n",
       "      <th id=\"T_84a02_level0_col0\" class=\"col_heading level0 col0\" >Model</th>\n",
       "      <th id=\"T_84a02_level0_col1\" class=\"col_heading level0 col1\" >Accuracy</th>\n",
       "      <th id=\"T_84a02_level0_col2\" class=\"col_heading level0 col2\" >AUC</th>\n",
       "      <th id=\"T_84a02_level0_col3\" class=\"col_heading level0 col3\" >Recall</th>\n",
       "      <th id=\"T_84a02_level0_col4\" class=\"col_heading level0 col4\" >Prec.</th>\n",
       "      <th id=\"T_84a02_level0_col5\" class=\"col_heading level0 col5\" >F1</th>\n",
       "      <th id=\"T_84a02_level0_col6\" class=\"col_heading level0 col6\" >Kappa</th>\n",
       "      <th id=\"T_84a02_level0_col7\" class=\"col_heading level0 col7\" >MCC</th>\n",
       "    </tr>\n",
       "  </thead>\n",
       "  <tbody>\n",
       "    <tr>\n",
       "      <th id=\"T_84a02_level0_row0\" class=\"row_heading level0 row0\" >0</th>\n",
       "      <td id=\"T_84a02_row0_col0\" class=\"data row0 col0\" >Logistic Regression</td>\n",
       "      <td id=\"T_84a02_row0_col1\" class=\"data row0 col1\" >0.7956</td>\n",
       "      <td id=\"T_84a02_row0_col2\" class=\"data row0 col2\" >0.8356</td>\n",
       "      <td id=\"T_84a02_row0_col3\" class=\"data row0 col3\" >0.5136</td>\n",
       "      <td id=\"T_84a02_row0_col4\" class=\"data row0 col4\" >0.6452</td>\n",
       "      <td id=\"T_84a02_row0_col5\" class=\"data row0 col5\" >0.5719</td>\n",
       "      <td id=\"T_84a02_row0_col6\" class=\"data row0 col6\" >0.4400</td>\n",
       "      <td id=\"T_84a02_row0_col7\" class=\"data row0 col7\" >0.4449</td>\n",
       "    </tr>\n",
       "  </tbody>\n",
       "</table>\n"
      ],
      "text/plain": [
       "<pandas.io.formats.style.Styler at 0x16c261a80>"
      ]
     },
     "metadata": {},
     "output_type": "display_data"
    }
   ],
   "source": [
    "predictions = automl.predict_model(best_model, data=df)"
   ]
  },
  {
   "cell_type": "code",
   "execution_count": 38,
   "metadata": {},
   "outputs": [
    {
     "data": {
      "text/html": [
       "<div>\n",
       "<style scoped>\n",
       "    .dataframe tbody tr th:only-of-type {\n",
       "        vertical-align: middle;\n",
       "    }\n",
       "\n",
       "    .dataframe tbody tr th {\n",
       "        vertical-align: top;\n",
       "    }\n",
       "\n",
       "    .dataframe thead th {\n",
       "        text-align: right;\n",
       "    }\n",
       "</style>\n",
       "<table border=\"1\" class=\"dataframe\">\n",
       "  <thead>\n",
       "    <tr style=\"text-align: right;\">\n",
       "      <th></th>\n",
       "      <th>tenure</th>\n",
       "      <th>PhoneService</th>\n",
       "      <th>Contract</th>\n",
       "      <th>PaymentMethod</th>\n",
       "      <th>MonthlyCharges</th>\n",
       "      <th>TotalCharges</th>\n",
       "      <th>Churn</th>\n",
       "      <th>prediction_label</th>\n",
       "      <th>prediction_score</th>\n",
       "    </tr>\n",
       "    <tr>\n",
       "      <th>customerID</th>\n",
       "      <th></th>\n",
       "      <th></th>\n",
       "      <th></th>\n",
       "      <th></th>\n",
       "      <th></th>\n",
       "      <th></th>\n",
       "      <th></th>\n",
       "      <th></th>\n",
       "      <th></th>\n",
       "    </tr>\n",
       "  </thead>\n",
       "  <tbody>\n",
       "    <tr>\n",
       "      <th>7590-VHVEG</th>\n",
       "      <td>1</td>\n",
       "      <td>0</td>\n",
       "      <td>1</td>\n",
       "      <td>1</td>\n",
       "      <td>29.850000</td>\n",
       "      <td>29.850000</td>\n",
       "      <td>0</td>\n",
       "      <td>1</td>\n",
       "      <td>0.5343</td>\n",
       "    </tr>\n",
       "    <tr>\n",
       "      <th>5575-GNVDE</th>\n",
       "      <td>34</td>\n",
       "      <td>1</td>\n",
       "      <td>12</td>\n",
       "      <td>2</td>\n",
       "      <td>56.950001</td>\n",
       "      <td>1889.500000</td>\n",
       "      <td>0</td>\n",
       "      <td>0</td>\n",
       "      <td>0.9236</td>\n",
       "    </tr>\n",
       "    <tr>\n",
       "      <th>3668-QPYBK</th>\n",
       "      <td>2</td>\n",
       "      <td>1</td>\n",
       "      <td>1</td>\n",
       "      <td>2</td>\n",
       "      <td>53.849998</td>\n",
       "      <td>108.150002</td>\n",
       "      <td>1</td>\n",
       "      <td>0</td>\n",
       "      <td>0.5469</td>\n",
       "    </tr>\n",
       "    <tr>\n",
       "      <th>7795-CFOCW</th>\n",
       "      <td>45</td>\n",
       "      <td>0</td>\n",
       "      <td>12</td>\n",
       "      <td>3</td>\n",
       "      <td>42.299999</td>\n",
       "      <td>1840.750000</td>\n",
       "      <td>0</td>\n",
       "      <td>0</td>\n",
       "      <td>0.9504</td>\n",
       "    </tr>\n",
       "    <tr>\n",
       "      <th>9237-HQITU</th>\n",
       "      <td>2</td>\n",
       "      <td>1</td>\n",
       "      <td>1</td>\n",
       "      <td>1</td>\n",
       "      <td>70.699997</td>\n",
       "      <td>151.649994</td>\n",
       "      <td>1</td>\n",
       "      <td>1</td>\n",
       "      <td>0.6033</td>\n",
       "    </tr>\n",
       "  </tbody>\n",
       "</table>\n",
       "</div>"
      ],
      "text/plain": [
       "            tenure  PhoneService  Contract  PaymentMethod  MonthlyCharges  \\\n",
       "customerID                                                                  \n",
       "7590-VHVEG       1             0         1              1       29.850000   \n",
       "5575-GNVDE      34             1        12              2       56.950001   \n",
       "3668-QPYBK       2             1         1              2       53.849998   \n",
       "7795-CFOCW      45             0        12              3       42.299999   \n",
       "9237-HQITU       2             1         1              1       70.699997   \n",
       "\n",
       "            TotalCharges  Churn  prediction_label  prediction_score  \n",
       "customerID                                                           \n",
       "7590-VHVEG     29.850000      0                 1            0.5343  \n",
       "5575-GNVDE   1889.500000      0                 0            0.9236  \n",
       "3668-QPYBK    108.150002      1                 0            0.5469  \n",
       "7795-CFOCW   1840.750000      0                 0            0.9504  \n",
       "9237-HQITU    151.649994      1                 1            0.6033  "
      ]
     },
     "execution_count": 38,
     "metadata": {},
     "output_type": "execute_result"
    }
   ],
   "source": [
    "predictions.head()"
   ]
  },
  {
   "cell_type": "markdown",
   "metadata": {},
   "source": [
    "Analysis::<br>\n",
    "I find it very interesting that the score is roughly 58% accurate - not great<br>\n",
    "...and here we can see that play out, with getting the pattern above...<br>\n",
    "wrong<br>\n",
    "right<br>\n",
    "wrong<br>\n",
    "right<br>\n",
    "right<br>\n",
    "That is only 60% right when only viewing the head of the dataframe"
   ]
  },
  {
   "cell_type": "markdown",
   "metadata": {},
   "source": [
    "Save model for use with Python"
   ]
  },
  {
   "cell_type": "code",
   "execution_count": 40,
   "metadata": {},
   "outputs": [
    {
     "name": "stdout",
     "output_type": "stream",
     "text": [
      "Transformation Pipeline and Model Successfully Saved\n"
     ]
    },
    {
     "data": {
      "text/plain": [
       "(Pipeline(memory=Memory(location=None),\n",
       "          steps=[('numerical_imputer',\n",
       "                  TransformerWrapper(exclude=None,\n",
       "                                     include=['tenure', 'PhoneService',\n",
       "                                              'Contract', 'PaymentMethod',\n",
       "                                              'MonthlyCharges', 'TotalCharges'],\n",
       "                                     transformer=SimpleImputer(add_indicator=False,\n",
       "                                                               copy=True,\n",
       "                                                               fill_value=None,\n",
       "                                                               keep_empty_features=False,\n",
       "                                                               missing_values=nan,\n",
       "                                                               strategy='mean',\n",
       "                                                               verbose='deprecated'))),\n",
       "                 ('...\n",
       "                                                               keep_empty_features=False,\n",
       "                                                               missing_values=nan,\n",
       "                                                               strategy='most_frequent',\n",
       "                                                               verbose='deprecated'))),\n",
       "                 ('trained_model',\n",
       "                  LogisticRegression(C=1.0, class_weight=None, dual=False,\n",
       "                                     fit_intercept=True, intercept_scaling=1,\n",
       "                                     l1_ratio=None, max_iter=1000,\n",
       "                                     multi_class='auto', n_jobs=None,\n",
       "                                     penalty='l2', random_state=2966,\n",
       "                                     solver='lbfgs', tol=0.0001, verbose=0,\n",
       "                                     warm_start=False))],\n",
       "          verbose=False),\n",
       " 'LR_model.pkl')"
      ]
     },
     "execution_count": 40,
     "metadata": {},
     "output_type": "execute_result"
    }
   ],
   "source": [
    "save_model(best_model, 'LR_model')"
   ]
  },
  {
   "cell_type": "markdown",
   "metadata": {},
   "source": [
    "Set up a pickle file, save and then load the pickle file"
   ]
  },
  {
   "cell_type": "code",
   "execution_count": 32,
   "metadata": {},
   "outputs": [
    {
     "data": {
      "text/plain": [
       "array([1], dtype=int8)"
      ]
     },
     "execution_count": 32,
     "metadata": {},
     "output_type": "execute_result"
    }
   ],
   "source": [
    "with open('LR_model.pk', 'wb') as f:\n",
    "    pickle.dump(best_model, f)\n",
    "\n",
    "with open('LR_model.pk', 'rb') as f:\n",
    "    loaded_model = pickle.load(f)\n",
    "\n",
    "new_data = df.iloc[-2:-1].copy()\n",
    "new_data.drop('Churn', axis=1, inplace=True)\n",
    "loaded_model.predict(new_data)"
   ]
  },
  {
   "cell_type": "markdown",
   "metadata": {},
   "source": [
    "Load saved Pycaret model and make predictions"
   ]
  },
  {
   "cell_type": "code",
   "execution_count": 33,
   "metadata": {},
   "outputs": [
    {
     "name": "stdout",
     "output_type": "stream",
     "text": [
      "Transformation Pipeline and Model Successfully Loaded\n"
     ]
    }
   ],
   "source": [
    "loaded_lr_model = load_model('LR_model')"
   ]
  },
  {
   "cell_type": "code",
   "execution_count": 42,
   "metadata": {},
   "outputs": [
    {
     "data": {
      "text/html": [],
      "text/plain": [
       "<IPython.core.display.HTML object>"
      ]
     },
     "metadata": {},
     "output_type": "display_data"
    },
    {
     "data": {
      "text/html": [
       "<div>\n",
       "<style scoped>\n",
       "    .dataframe tbody tr th:only-of-type {\n",
       "        vertical-align: middle;\n",
       "    }\n",
       "\n",
       "    .dataframe tbody tr th {\n",
       "        vertical-align: top;\n",
       "    }\n",
       "\n",
       "    .dataframe thead th {\n",
       "        text-align: right;\n",
       "    }\n",
       "</style>\n",
       "<table border=\"1\" class=\"dataframe\">\n",
       "  <thead>\n",
       "    <tr style=\"text-align: right;\">\n",
       "      <th></th>\n",
       "      <th>tenure</th>\n",
       "      <th>PhoneService</th>\n",
       "      <th>Contract</th>\n",
       "      <th>PaymentMethod</th>\n",
       "      <th>MonthlyCharges</th>\n",
       "      <th>TotalCharges</th>\n",
       "      <th>prediction_label</th>\n",
       "      <th>prediction_score</th>\n",
       "    </tr>\n",
       "    <tr>\n",
       "      <th>customerID</th>\n",
       "      <th></th>\n",
       "      <th></th>\n",
       "      <th></th>\n",
       "      <th></th>\n",
       "      <th></th>\n",
       "      <th></th>\n",
       "      <th></th>\n",
       "      <th></th>\n",
       "    </tr>\n",
       "  </thead>\n",
       "  <tbody>\n",
       "    <tr>\n",
       "      <th>8361-LTMKD</th>\n",
       "      <td>4</td>\n",
       "      <td>1</td>\n",
       "      <td>1</td>\n",
       "      <td>2</td>\n",
       "      <td>74.400002</td>\n",
       "      <td>306.600006</td>\n",
       "      <td>1</td>\n",
       "      <td>0.5758</td>\n",
       "    </tr>\n",
       "  </tbody>\n",
       "</table>\n",
       "</div>"
      ],
      "text/plain": [
       "            tenure  PhoneService  Contract  PaymentMethod  MonthlyCharges  \\\n",
       "customerID                                                                  \n",
       "8361-LTMKD       4             1         1              2       74.400002   \n",
       "\n",
       "            TotalCharges  prediction_label  prediction_score  \n",
       "customerID                                                    \n",
       "8361-LTMKD    306.600006                 1            0.5758  "
      ]
     },
     "execution_count": 42,
     "metadata": {},
     "output_type": "execute_result"
    }
   ],
   "source": [
    "predict_model(loaded_lr_model, new_data)"
   ]
  },
  {
   "cell_type": "markdown",
   "metadata": {},
   "source": [
    "Run the prediction model using a Python library"
   ]
  },
  {
   "cell_type": "code",
   "execution_count": 35,
   "metadata": {},
   "outputs": [
    {
     "name": "stdout",
     "output_type": "stream",
     "text": [
      "Transformation Pipeline and Model Successfully Loaded\n"
     ]
    },
    {
     "data": {
      "text/html": [],
      "text/plain": [
       "<IPython.core.display.HTML object>"
      ]
     },
     "metadata": {},
     "output_type": "display_data"
    },
    {
     "name": "stdout",
     "output_type": "stream",
     "text": [
      "Predictions:\n",
      "customerID\n",
      "9305-CKSKC       Churn\n",
      "1452-KNGVK       Churn\n",
      "6723-OKKJM    No Churn\n",
      "7832-POPKP    No Churn\n",
      "6348-TACGU       Churn\n",
      "Name: Churn_prediction, dtype: object\n"
     ]
    }
   ],
   "source": [
    "%run homework_week5.py"
   ]
  },
  {
   "cell_type": "markdown",
   "metadata": {},
   "source": [
    "Analysis::<br>\n",
    "Compared to correct churn or no churn - the above shows the following accuracy:<br>\n",
    "right<br>\n",
    "wrong<br>\n",
    "right<br>\n",
    "wrong<br>\n",
    "wrong<br>\n",
    "A meezly 40% accuracy - ugh!"
   ]
  },
  {
   "cell_type": "markdown",
   "metadata": {},
   "source": [
    "### ANALYSIS\n",
    "<br>\n",
    "This weeks assignment was super frustrating with pycaret not playing nice with Python 3.11.  I really spun my wheels for some time.  Even after your lecture landed, those instructions did not fully solve the problem I was having.  SO that being said, I feel like, as far as analysis goes this week, I don't have the energy to really dive deep.<br>\n",
    "<br>\n",
    "Using git on a mac is frustrating due to the filesystem constently adding icon files into every dir - and though my git ignore contains a line to ignore them, they still keep createing headaches - I am well aware of how to resolve this issue, it just has been a while since I needed to use git on my mac.  Professionally I use git every day on Kubuntu 20, including coding in Python with VS Code.<br><br>\n",
    "Hope everything above is up to snuff... thank you!\n"
   ]
  }
 ],
 "metadata": {
  "kernelspec": {
   "display_name": "Python 3",
   "language": "python",
   "name": "python3"
  },
  "language_info": {
   "codemirror_mode": {
    "name": "ipython",
    "version": 3
   },
   "file_extension": ".py",
   "mimetype": "text/x-python",
   "name": "python",
   "nbconvert_exporter": "python",
   "pygments_lexer": "ipython3",
   "version": "3.10.0"
  },
  "orig_nbformat": 4
 },
 "nbformat": 4,
 "nbformat_minor": 2
}
