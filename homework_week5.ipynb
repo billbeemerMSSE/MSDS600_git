{
 "cells": [
  {
   "cell_type": "markdown",
   "metadata": {},
   "source": [
    "Homework Week 5 <br>\n",
    "MSDS 600<br>\n",
    "Bill Beemer<br>"
   ]
  },
  {
   "cell_type": "markdown",
   "metadata": {},
   "source": [
    "Import Block"
   ]
  },
  {
   "cell_type": "code",
   "execution_count": 1,
   "metadata": {},
   "outputs": [
    {
     "ename": "ImportError",
     "evalue": "cannot import name 'if_delegate_has_method' from 'sklearn.utils.metaestimators' (/opt/homebrew/anaconda3/lib/python3.11/site-packages/sklearn/utils/metaestimators.py)",
     "output_type": "error",
     "traceback": [
      "\u001b[0;31m---------------------------------------------------------------------------\u001b[0m",
      "\u001b[0;31mImportError\u001b[0m                               Traceback (most recent call last)",
      "\u001b[1;32m/Users/billbeemer/Google_Drive/PERSONAL/REGIS_Docs/MSDS600/MSDS_Code/MSDS600_git/homework_week5.ipynb Cell 3\u001b[0m line \u001b[0;36m3\n\u001b[1;32m      <a href='vscode-notebook-cell:/Users/billbeemer/Google_Drive/PERSONAL/REGIS_Docs/MSDS600/MSDS_Code/MSDS600_git/homework_week5.ipynb#W2sZmlsZQ%3D%3D?line=0'>1</a>\u001b[0m \u001b[39mimport\u001b[39;00m \u001b[39mpandas\u001b[39;00m \u001b[39mas\u001b[39;00m \u001b[39mpd\u001b[39;00m\n\u001b[1;32m      <a href='vscode-notebook-cell:/Users/billbeemer/Google_Drive/PERSONAL/REGIS_Docs/MSDS600/MSDS_Code/MSDS600_git/homework_week5.ipynb#W2sZmlsZQ%3D%3D?line=1'>2</a>\u001b[0m \u001b[39m# from pycaret.classification import predict_model, load_model\u001b[39;00m\n\u001b[0;32m----> <a href='vscode-notebook-cell:/Users/billbeemer/Google_Drive/PERSONAL/REGIS_Docs/MSDS600/MSDS_Code/MSDS600_git/homework_week5.ipynb#W2sZmlsZQ%3D%3D?line=2'>3</a>\u001b[0m \u001b[39mfrom\u001b[39;00m \u001b[39mpycaret\u001b[39;00m\u001b[39m.\u001b[39;00m\u001b[39mclassification\u001b[39;00m \u001b[39mimport\u001b[39;00m setup, compare_models, predict_model, save_model, load_model\n\u001b[1;32m      <a href='vscode-notebook-cell:/Users/billbeemer/Google_Drive/PERSONAL/REGIS_Docs/MSDS600/MSDS_Code/MSDS600_git/homework_week5.ipynb#W2sZmlsZQ%3D%3D?line=3'>4</a>\u001b[0m \u001b[39m# import matplotlib.pyplot as plt\u001b[39;00m\n\u001b[1;32m      <a href='vscode-notebook-cell:/Users/billbeemer/Google_Drive/PERSONAL/REGIS_Docs/MSDS600/MSDS_Code/MSDS600_git/homework_week5.ipynb#W2sZmlsZQ%3D%3D?line=4'>5</a>\u001b[0m \u001b[39m# import math\u001b[39;00m\n\u001b[1;32m      <a href='vscode-notebook-cell:/Users/billbeemer/Google_Drive/PERSONAL/REGIS_Docs/MSDS600/MSDS_Code/MSDS600_git/homework_week5.ipynb#W2sZmlsZQ%3D%3D?line=5'>6</a>\u001b[0m \u001b[39m# import seaborn as sns\u001b[39;00m\n\u001b[0;32m   (...)\u001b[0m\n\u001b[1;32m      <a href='vscode-notebook-cell:/Users/billbeemer/Google_Drive/PERSONAL/REGIS_Docs/MSDS600/MSDS_Code/MSDS600_git/homework_week5.ipynb#W2sZmlsZQ%3D%3D?line=8'>9</a>\u001b[0m \u001b[39m# from sklearn.tree import DecisionTreeClassifier, plot_tree\u001b[39;00m\n\u001b[1;32m     <a href='vscode-notebook-cell:/Users/billbeemer/Google_Drive/PERSONAL/REGIS_Docs/MSDS600/MSDS_Code/MSDS600_git/homework_week5.ipynb#W2sZmlsZQ%3D%3D?line=9'>10</a>\u001b[0m \u001b[39m# from scikitplot.estimators import plot_feature_importances\u001b[39;00m\n\u001b[1;32m     <a href='vscode-notebook-cell:/Users/billbeemer/Google_Drive/PERSONAL/REGIS_Docs/MSDS600/MSDS_Code/MSDS600_git/homework_week5.ipynb#W2sZmlsZQ%3D%3D?line=11'>12</a>\u001b[0m get_ipython()\u001b[39m.\u001b[39mrun_line_magic(\u001b[39m'\u001b[39m\u001b[39mmatplotlib\u001b[39m\u001b[39m'\u001b[39m, \u001b[39m'\u001b[39m\u001b[39minline\u001b[39m\u001b[39m'\u001b[39m)\n",
      "File \u001b[0;32m/opt/homebrew/anaconda3/lib/python3.11/site-packages/pycaret/classification.py:10\u001b[0m\n\u001b[1;32m      7\u001b[0m \u001b[39mimport\u001b[39;00m \u001b[39mpandas\u001b[39;00m \u001b[39mas\u001b[39;00m \u001b[39mpd\u001b[39;00m\n\u001b[1;32m      8\u001b[0m \u001b[39mimport\u001b[39;00m \u001b[39mnumpy\u001b[39;00m \u001b[39mas\u001b[39;00m \u001b[39mnp\u001b[39;00m\n\u001b[0;32m---> 10\u001b[0m \u001b[39mimport\u001b[39;00m \u001b[39mpycaret\u001b[39;00m\u001b[39m.\u001b[39;00m\u001b[39minternal\u001b[39;00m\u001b[39m.\u001b[39;00m\u001b[39mtabular\u001b[39;00m\n\u001b[1;32m     11\u001b[0m \u001b[39mfrom\u001b[39;00m \u001b[39mpycaret\u001b[39;00m\u001b[39m.\u001b[39;00m\u001b[39minternal\u001b[39;00m\u001b[39m.\u001b[39;00m\u001b[39mDisplay\u001b[39;00m \u001b[39mimport\u001b[39;00m Display, is_in_colab, enable_colab\n\u001b[1;32m     12\u001b[0m \u001b[39mfrom\u001b[39;00m \u001b[39mtyping\u001b[39;00m \u001b[39mimport\u001b[39;00m List, Tuple, Any, Union, Optional, Dict\n",
      "File \u001b[0;32m/opt/homebrew/anaconda3/lib/python3.11/site-packages/pycaret/internal/tabular.py:17\u001b[0m\n\u001b[1;32m      9\u001b[0m \u001b[39mfrom\u001b[39;00m \u001b[39mpycaret\u001b[39;00m\u001b[39m.\u001b[39;00m\u001b[39minternal\u001b[39;00m\u001b[39m.\u001b[39;00m\u001b[39mmeta_estimators\u001b[39;00m \u001b[39mimport\u001b[39;00m (\n\u001b[1;32m     10\u001b[0m     PowerTransformedTargetRegressor,\n\u001b[1;32m     11\u001b[0m     get_estimator_from_meta_estimator,\n\u001b[1;32m     12\u001b[0m )\n\u001b[1;32m     13\u001b[0m \u001b[39mfrom\u001b[39;00m \u001b[39mpycaret\u001b[39;00m\u001b[39m.\u001b[39;00m\u001b[39minternal\u001b[39;00m\u001b[39m.\u001b[39;00m\u001b[39mpatches\u001b[39;00m\u001b[39m.\u001b[39;00m\u001b[39mtune_sklearn\u001b[39;00m \u001b[39mimport\u001b[39;00m (\n\u001b[1;32m     14\u001b[0m     get_tune_sklearn_tunegridsearchcv,\n\u001b[1;32m     15\u001b[0m     get_tune_sklearn_tunesearchcv,\n\u001b[1;32m     16\u001b[0m )\n\u001b[0;32m---> 17\u001b[0m \u001b[39mfrom\u001b[39;00m \u001b[39mpycaret\u001b[39;00m\u001b[39m.\u001b[39;00m\u001b[39minternal\u001b[39;00m\u001b[39m.\u001b[39;00m\u001b[39mpipeline\u001b[39;00m \u001b[39mimport\u001b[39;00m (\n\u001b[1;32m     18\u001b[0m     add_estimator_to_pipeline,\n\u001b[1;32m     19\u001b[0m     get_pipeline_estimator_label,\n\u001b[1;32m     20\u001b[0m     make_internal_pipeline,\n\u001b[1;32m     21\u001b[0m     estimator_pipeline,\n\u001b[1;32m     22\u001b[0m     merge_pipelines,\n\u001b[1;32m     23\u001b[0m     Pipeline \u001b[39mas\u001b[39;00m InternalPipeline,\n\u001b[1;32m     24\u001b[0m )\n\u001b[1;32m     25\u001b[0m \u001b[39mfrom\u001b[39;00m \u001b[39mpycaret\u001b[39;00m\u001b[39m.\u001b[39;00m\u001b[39minternal\u001b[39;00m\u001b[39m.\u001b[39;00m\u001b[39mutils\u001b[39;00m \u001b[39mimport\u001b[39;00m (\n\u001b[1;32m     26\u001b[0m     color_df,\n\u001b[1;32m     27\u001b[0m     normalize_custom_transformers,\n\u001b[0;32m   (...)\u001b[0m\n\u001b[1;32m     31\u001b[0m     infer_ml_usecase,\n\u001b[1;32m     32\u001b[0m )\n\u001b[1;32m     33\u001b[0m \u001b[39mimport\u001b[39;00m \u001b[39mpycaret\u001b[39;00m\u001b[39m.\u001b[39;00m\u001b[39minternal\u001b[39;00m\u001b[39m.\u001b[39;00m\u001b[39mpatches\u001b[39;00m\u001b[39m.\u001b[39;00m\u001b[39msklearn\u001b[39;00m\n",
      "File \u001b[0;32m/opt/homebrew/anaconda3/lib/python3.11/site-packages/pycaret/internal/pipeline.py:15\u001b[0m\n\u001b[1;32m     13\u001b[0m \u001b[39mfrom\u001b[39;00m \u001b[39msklearn\u001b[39;00m\u001b[39m.\u001b[39;00m\u001b[39mutils\u001b[39;00m \u001b[39mimport\u001b[39;00m _print_elapsed_time\n\u001b[1;32m     14\u001b[0m \u001b[39mfrom\u001b[39;00m \u001b[39msklearn\u001b[39;00m\u001b[39m.\u001b[39;00m\u001b[39mbase\u001b[39;00m \u001b[39mimport\u001b[39;00m BaseEstimator, TransformerMixin, clone\n\u001b[0;32m---> 15\u001b[0m \u001b[39mfrom\u001b[39;00m \u001b[39msklearn\u001b[39;00m\u001b[39m.\u001b[39;00m\u001b[39mutils\u001b[39;00m\u001b[39m.\u001b[39;00m\u001b[39mmetaestimators\u001b[39;00m \u001b[39mimport\u001b[39;00m if_delegate_has_method\n\u001b[1;32m     16\u001b[0m \u001b[39mimport\u001b[39;00m \u001b[39msklearn\u001b[39;00m\u001b[39m.\u001b[39;00m\u001b[39mpipeline\u001b[39;00m\n\u001b[1;32m     17\u001b[0m \u001b[39mfrom\u001b[39;00m \u001b[39mpycaret\u001b[39;00m\u001b[39m.\u001b[39;00m\u001b[39minternal\u001b[39;00m\u001b[39m.\u001b[39;00m\u001b[39mvalidation\u001b[39;00m \u001b[39mimport\u001b[39;00m is_fitted\n",
      "\u001b[0;31mImportError\u001b[0m: cannot import name 'if_delegate_has_method' from 'sklearn.utils.metaestimators' (/opt/homebrew/anaconda3/lib/python3.11/site-packages/sklearn/utils/metaestimators.py)"
     ]
    }
   ],
   "source": [
    "import pandas as pd\n",
    "# from pycaret.classification import predict_model, load_model\n",
    "from pycaret.classification import setup, compare_models, predict_model, save_model, load_model\n",
    "# import matplotlib.pyplot as plt\n",
    "# import math\n",
    "# import seaborn as sns\n",
    "# from sklearn.ensemble import RandomForestClassifier\n",
    "# from sklearn.model_selection import train_test_split\n",
    "# from sklearn.tree import DecisionTreeClassifier, plot_tree\n",
    "# from scikitplot.estimators import plot_feature_importances\n",
    "\n",
    "%matplotlib inline\n"
   ]
  },
  {
   "cell_type": "markdown",
   "metadata": {},
   "source": [
    "Build dataframe from Prepped Churn Data"
   ]
  },
  {
   "cell_type": "code",
   "execution_count": null,
   "metadata": {},
   "outputs": [],
   "source": [
    "df = pd.read_csv('data/new_churn_data.csv', index_col='customerID')\n",
    "df"
   ]
  },
  {
   "cell_type": "markdown",
   "metadata": {},
   "source": []
  },
  {
   "cell_type": "markdown",
   "metadata": {},
   "source": [
    "### ANALYSIS\n",
    "<br>\n",
    "After last weeks analysis I was certain that the monthly charge was the driving factor in Churn - but as this weeks lesson has shown - the MORE important feature is contract length - either month to month, one year or two year - the only options.  I am now curious about which contracts show the most Churn.  <br>\n",
    "<br>\n",
    "Above I was taking notes as I was going - so you may find some interesting analysis regarding why I droppped the TOTAL charges, since that feature seemed be to included in tenure and monthly charges and therefore was redundant.<br>\n",
    "<br>\n",
    "I also found that the default depth was 30 - wow! <br>\n",
    "<br>\n",
    "And finally, only removed the phoneservice feature (even though I also tested dropping PaymentMethod) - Once this was dropped, tenure and Monthly Payments swapped places behind contract type as important features. (and tenure displayed an even lower importance when PaymentMethod was also dropped, making the Contract length and MonthlyCharges appear to be the ONLY features playing a role.)<br>\n"
   ]
  }
 ],
 "metadata": {
  "kernelspec": {
   "display_name": "Python 3",
   "language": "python",
   "name": "python3"
  },
  "language_info": {
   "codemirror_mode": {
    "name": "ipython",
    "version": 3
   },
   "file_extension": ".py",
   "mimetype": "text/x-python",
   "name": "python",
   "nbconvert_exporter": "python",
   "pygments_lexer": "ipython3",
   "version": "3.11.4"
  },
  "orig_nbformat": 4
 },
 "nbformat": 4,
 "nbformat_minor": 2
}
